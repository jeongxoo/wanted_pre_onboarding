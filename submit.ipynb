{
 "cells": [
  {
   "cell_type": "code",
   "execution_count": 4,
   "id": "ae4baa08",
   "metadata": {},
   "outputs": [],
   "source": [
    "import re\n",
    "import math\n",
    "import itertools\n",
    "import numpy as np\n",
    "from faker import Faker"
   ]
  },
  {
   "cell_type": "code",
   "execution_count": 5,
   "id": "bdd4fce2",
   "metadata": {},
   "outputs": [],
   "source": [
    "class Tokenizer():\n",
    "    def __init__(self):\n",
    "        self.word_dict = {'oov': 0}\n",
    "        self.fit_checker = False\n",
    "\n",
    "    def preprocessing(self, sequences):\n",
    "        # lambda func & preprocessing\n",
    "        sub_low = lambda x: re.sub(r\"[^a-zA-Z0-9]\", \"\", x).lower()\n",
    "        result = [list(map(sub_low, s.split())) for s in sequences]\n",
    "        return result\n",
    "  \n",
    "    def fit(self, sequences):\n",
    "        self.fit_checker = False\n",
    "        \n",
    "        # tokenizing\n",
    "        tokens = self.preprocessing(sequences) \n",
    "        tokens = set(itertools.chain(*tokens))\n",
    "\n",
    "        # 딕셔너리 value 중복 및 유실 방지\n",
    "        st_point = max(list(self.word_dict.values()))\n",
    "\n",
    "        # genarate word dictionary\n",
    "        _dict = {v: (i + st_point + 1) for i, v in enumerate(tokens)}\n",
    "        self.word_dict = dict(_dict, **self.word_dict) \n",
    "        \n",
    "        self.fit_checker = True\n",
    "    \n",
    "    def transform(self, sequences):\n",
    "        result = []\n",
    "        tokens = self.preprocessing(sequences)\n",
    "        \n",
    "        if self.fit_checker:\n",
    "            # lambda func & numberizing\n",
    "            find_key = lambda x: x if x in self.word_dict.keys() else \"oov\"\n",
    "            find_value = lambda x: self.word_dict[find_key(x)]\n",
    "            result = [list(map(find_value, t)) for t in tokens]\n",
    "            \n",
    "            return result\n",
    "        else:\n",
    "            raise Exception(\"Tokenizer instance is not fitted yet.\")\n",
    "      \n",
    "    def fit_transform(self, sequences):\n",
    "        self.fit(sequences)\n",
    "        result = self.transform(sequences)\n",
    "        return result\n",
    "    "
   ]
  },
  {
   "cell_type": "code",
   "execution_count": 6,
   "id": "ab9c4fa6",
   "metadata": {},
   "outputs": [],
   "source": [
    "class TfidfVectorizer:\n",
    "    def __init__(self, tokenizer):\n",
    "        self.tokenizer = tokenizer\n",
    "        self.fit_checker = False\n",
    "        self.idf_matrix = []\n",
    "        self.tfidf_matrix = []\n",
    "  \n",
    "    def fit(self, sequences):\n",
    "        # tokenized sentense & numberized token\n",
    "        tokenized = self.tokenizer.fit_transform(sequences)\n",
    "        numbered_token = tk.word_dict.values()\n",
    "        \n",
    "        # lambda func & df value for each token\n",
    "        func_df = lambda x: sum([1 for tk in tokenized if x in tk])\n",
    "        token_count = {num:func_df(num) for num in numbered_token}        \n",
    "        \n",
    "        # lambda func & df-matrix\n",
    "        find_value = lambda x: token_count[x]\n",
    "        df_matrix = [list(map(find_value, tk)) for tk in tokenized]\n",
    "        \n",
    "        # lambda func & idf-matrix\n",
    "        n = len(sequences)\n",
    "        func_idf = lambda x: math.log(n / (1 + x))\n",
    "        self.idf_matrix = [list(map(func_idf, df)) for df in df_matrix]\n",
    "        \n",
    "        self.fit_checker = True\n",
    "    \n",
    "    def transform(self, sequences):\n",
    "        if self.fit_checker:\n",
    "            tokenized = self.tokenizer.transform(sequences)\n",
    "            \n",
    "            get_idf = lambda x: np.array(self.idf_matrix[x])\n",
    "            func_tf = lambda y: np.array(list(map(lambda x: y.count(x), y)))\n",
    "            self.tfidf_matrix = [(func_tf(tk) * get_idf(i)).tolist() for i, tk in enumerate(tokenized)]\n",
    "            \n",
    "            return self.tfidf_matrix\n",
    "        else:\n",
    "            raise Exception(\"TfidfVectorizer instance is not fitted yet.\")\n",
    "\n",
    "  \n",
    "    def fit_transform(self, sequences):\n",
    "        self.fit(sequences)\n",
    "        return self.transform(sequences)"
   ]
  },
  {
   "cell_type": "code",
   "execution_count": 7,
   "id": "a66dc486",
   "metadata": {},
   "outputs": [],
   "source": [
    "fake = Faker()\n",
    "tk = Tokenizer()\n",
    "tfidf = TfidfVectorizer(tk)"
   ]
  },
  {
   "cell_type": "code",
   "execution_count": 8,
   "id": "a985fa6a",
   "metadata": {},
   "outputs": [],
   "source": [
    "text = fake.texts(nb_texts = 100)"
   ]
  },
  {
   "cell_type": "code",
   "execution_count": 10,
   "id": "f1705c81",
   "metadata": {},
   "outputs": [
    {
     "data": {
      "text/plain": [
       "['Space must management order answer month stage when. Number financial east leave condition social. Beat avoid candidate school raise.',\n",
       " 'Explain than whether. Guess lot blood land little. Yet hard compare year may against ready.',\n",
       " 'Nothing rule amount fire population. They although form grow allow clearly.\\nEffect type teach seek wide. Hundred ground unit energy head.']"
      ]
     },
     "execution_count": 10,
     "metadata": {},
     "output_type": "execute_result"
    }
   ],
   "source": [
    "text[:3]"
   ]
  },
  {
   "cell_type": "code",
   "execution_count": 12,
   "id": "ba300623",
   "metadata": {},
   "outputs": [],
   "source": [
    "value = tfidf.fit_transform(text)\n",
    "original = tk.preprocessing(text)"
   ]
  },
  {
   "cell_type": "code",
   "execution_count": 22,
   "id": "3793965f",
   "metadata": {
    "scrolled": true
   },
   "outputs": [
    {
     "name": "stdout",
     "output_type": "stream",
     "text": [
      "Space must management order answer month stage when. Number financial east leave condition social. Beat avoid candidate school raise.\n",
      "answer\n",
      "\n",
      "Explain than whether. Guess lot blood land little. Yet hard compare year may against ready.\n",
      "yet\n",
      "\n",
      "Nothing rule amount fire population. They although form grow allow clearly.\n",
      "Effect type teach seek wide. Hundred ground unit energy head.\n",
      "they\n",
      "\n",
      "Throughout course land any. Usually produce themselves senior. Baby need drop either morning such subject money.\n",
      "Form which begin attorney door phone. Financial authority prove ball.\n",
      "begin\n",
      "\n",
      "Develop stock many day beyond. Body lay knowledge at enough environmental.\n",
      "Performance instead must find. Pay kitchen scene miss maintain. Them great mouth check wide.\n",
      "beyond\n",
      "\n",
      "Try black produce behavior write my. Order focus speech player school actually thousand. Power for sense low.\n",
      "Action again quite. Suffer while about thank expect. Red statement authority student.\n",
      "black\n",
      "\n",
      "Rest discuss team if population. Agent old often how.\n",
      "Agent significant line hear really agreement cause happy.\n",
      "agent\n",
      "\n",
      "Ready join plant live. Understand point hair suddenly.\n",
      "join\n",
      "\n",
      "A herself suffer hope west film. Tonight wrong produce real billion anything.\n",
      "Like action newspaper music continue. Against specific threat system loss.\n",
      "like\n",
      "\n",
      "Budget perform magazine determine. Visit section girl successful employee heavy. Before medical nothing set door tonight group.\n",
      "magazine\n",
      "\n"
     ]
    }
   ],
   "source": [
    "for i in range(10):\n",
    "    print(text[i])\n",
    "    print(original[i][value[i].index(max(value[i]))])\n",
    "    print()"
   ]
  },
  {
   "cell_type": "code",
   "execution_count": null,
   "id": "d2ee1516",
   "metadata": {},
   "outputs": [],
   "source": []
  }
 ],
 "metadata": {
  "kernelspec": {
   "display_name": "Python 3 (ipykernel)",
   "language": "python",
   "name": "python3"
  },
  "language_info": {
   "codemirror_mode": {
    "name": "ipython",
    "version": 3
   },
   "file_extension": ".py",
   "mimetype": "text/x-python",
   "name": "python",
   "nbconvert_exporter": "python",
   "pygments_lexer": "ipython3",
   "version": "3.9.7"
  }
 },
 "nbformat": 4,
 "nbformat_minor": 5
}
