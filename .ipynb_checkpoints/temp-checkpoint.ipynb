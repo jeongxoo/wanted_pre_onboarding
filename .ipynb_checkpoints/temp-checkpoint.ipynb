{
 "cells": [
  {
   "cell_type": "code",
   "execution_count": 1,
   "id": "444c00e7",
   "metadata": {},
   "outputs": [],
   "source": [
    "import re\n",
    "import math\n",
    "import itertools\n",
    "import numpy as np\n",
    "import pandas as pd"
   ]
  },
  {
   "cell_type": "code",
   "execution_count": 2,
   "id": "c6d88723",
   "metadata": {},
   "outputs": [],
   "source": [
    "class Tokenizer():\n",
    "    def __init__(self):\n",
    "        self.word_dict = {'oov': 0}\n",
    "        self.fit_checker = False\n",
    "\n",
    "    def preprocessing(self, sequences):\n",
    "        result = []\n",
    "        \n",
    "        ##########\n",
    "        \n",
    "        fx_make = lambda x: re.sub(r\"[^a-zA-Z0-9]\", \" \", x).lower().split()\n",
    "        result = [fx_make(s) for s in sequences]\n",
    "        \n",
    "        ##########\n",
    "        \n",
    "        return result\n",
    "\n",
    "    def fit(self, sequences):\n",
    "        self.fit_checker = False\n",
    "        \n",
    "        ##########\n",
    "        \n",
    "        tokenized = self.preprocessing(sequences) \n",
    "        token = list(set(itertools.chain(*tokenized)))\n",
    "\n",
    "        _dict = {v: (i + 1) for i, v in enumerate(token)}\n",
    "        self.word_dict = dict(_dict, **self.word_dict) \n",
    "        \n",
    "        ##########\n",
    "        \n",
    "        self.fit_checker = True\n",
    "  \n",
    "    def transform(self, sequences):\n",
    "        result = []\n",
    "        tokens = self.preprocessing(sequences)\n",
    "        if self.fit_checker:\n",
    "            \n",
    "            ##########\n",
    "            \n",
    "            fx_get_key = lambda x: x if x in self.word_dict.keys() else \"oov\"\n",
    "            fx_get_val = lambda x: self.word_dict[fx_get_key(x)]\n",
    "            result = [list(map(fx_get_val, t)) for t in tokens]\n",
    "            \n",
    "            ##########\n",
    "            \n",
    "            return result\n",
    "        else:\n",
    "            raise Exception(\"Tokenizer instance is not fitted yet.\")\n",
    "      \n",
    "    def fit_transform(self, sequences):\n",
    "        self.fit(sequences)\n",
    "        result = self.transform(sequences)\n",
    "        return result"
   ]
  },
  {
   "cell_type": "code",
   "execution_count": 3,
   "id": "9543a57c",
   "metadata": {},
   "outputs": [],
   "source": [
    "class TfidfVectorizer:\n",
    "    def __init__(self, tokenizer):\n",
    "        self.tokenizer = tokenizer\n",
    "        self.fit_checker = False\n",
    "\n",
    "    def fit(self, sequences):\n",
    "        tokenized = self.tokenizer.fit_transform(sequences)\n",
    "        \n",
    "        ##########\n",
    "        \n",
    "        token = self.tokenizer.word_dict.keys()\n",
    "\n",
    "        fx_df = lambda x: sum([1 for tk in tokenized if x in tk])\n",
    "        fx_get_idx = lambda x: self.tokenizer.word_dict[x]\n",
    "        df_matrix = [fx_df(fx_get_idx(t)) for t in token]\n",
    "    \n",
    "        n = len(sequences)\n",
    "        fx_idf = lambda x: math.log(n / (1 + x))\n",
    "        self.tfidf_matrix = [fx_idf(df) for df in df_matrix]  \n",
    "        \n",
    "        ##########\n",
    "        \n",
    "        self.fit_checker = True\n",
    "\n",
    "\n",
    "    def transform(self, sequences):\n",
    "        if self.fit_checker:\n",
    "            tokenized = self.tokenizer.transform(sequences)\n",
    "            \n",
    "            ##########\n",
    "            \n",
    "            fx_get_idf = lambda y: np.array(list(map(lambda x: self.tfidf_matrix[x - 1], y)))\n",
    "            fx_tf = lambda y: np.array(list(map(lambda x: y.count(x), y)))\n",
    "            fx_multi = lambda x, y: (x * y).tolist()\n",
    "            \n",
    "            self.tfidf_matrix = [fx_multi(fx_tf(tk), fx_get_idf(tk)) for tk in tokenized]\n",
    "            \n",
    "            ##########\n",
    "            \n",
    "            return self.tfidf_matrix\n",
    "        else:\n",
    "            raise Exception(\"TfidfVectorizer instance is not fitted yet.\")\n",
    "\n",
    "\n",
    "    def fit_transform(self, sequences):\n",
    "        self.fit(sequences)\n",
    "        return self.transform(sequences)"
   ]
  },
  {
   "cell_type": "markdown",
   "id": "3ecb4c67",
   "metadata": {},
   "source": [
    "# 결과 확인"
   ]
  },
  {
   "cell_type": "code",
   "execution_count": 4,
   "id": "431d3eb0",
   "metadata": {
    "scrolled": false
   },
   "outputs": [],
   "source": [
    "# 실행 및 출력용 DF 생성 함수\n",
    "def test(test_data):\n",
    "    tk = Tokenizer()\n",
    "    tfidf = TfidfVectorizer(tk)\n",
    "    \n",
    "    value = tfidf.fit_transform(test_data)\n",
    "    original = tk.preprocessing(test_data)\n",
    "    index = tk.word_dict.keys()\n",
    "    \n",
    "    _data = {\"Text_\" + str(i+1) :[] for i in range(len(test_data))}\n",
    "\n",
    "    for i,v in enumerate(original):\n",
    "        for idx in index:\n",
    "            key = \"Text_\" + str(i+1)\n",
    "            try:\n",
    "                _data[key].append(value[i][v.index(idx)])\n",
    "            except:\n",
    "                _data[key].append(0)\n",
    "\n",
    "    results = pd.DataFrame(data=_data, index=index) \n",
    "                \n",
    "    return results, tk, tfidf"
   ]
  },
  {
   "cell_type": "markdown",
   "id": "32c69a1b",
   "metadata": {},
   "source": [
    "### Sample Data"
   ]
  },
  {
   "cell_type": "code",
   "execution_count": 5,
   "id": "8d2d0d09",
   "metadata": {},
   "outputs": [],
   "source": [
    "test_data = [\"the best Italian restaurant enjoy the best pasta\",\n",
    "             \"American restaurant enjoy the best hamburger\",\n",
    "             \"Korean restaurant enjoy the best korean bibimbap\",\n",
    "             \"the best the best American restaurant\",\n",
    "             \"world best hamburger Macdonald\"]"
   ]
  },
  {
   "cell_type": "code",
   "execution_count": 6,
   "id": "3ea92fe1",
   "metadata": {
    "scrolled": false
   },
   "outputs": [
    {
     "data": {
      "text/html": [
       "<style type=\"text/css\">\n",
       "#T_e2a49_row2_col1, #T_e2a49_row4_col0, #T_e2a49_row7_col2, #T_e2a49_row8_col1, #T_e2a49_row8_col3, #T_e2a49_row9_col0, #T_e2a49_row10_col4, #T_e2a49_row11_col4 {\n",
       "  background-color: lightgreen;\n",
       "}\n",
       "</style>\n",
       "<table id=\"T_e2a49\">\n",
       "  <thead>\n",
       "    <tr>\n",
       "      <th class=\"blank level0\" >&nbsp;</th>\n",
       "      <th id=\"T_e2a49_level0_col0\" class=\"col_heading level0 col0\" >Text_1</th>\n",
       "      <th id=\"T_e2a49_level0_col1\" class=\"col_heading level0 col1\" >Text_2</th>\n",
       "      <th id=\"T_e2a49_level0_col2\" class=\"col_heading level0 col2\" >Text_3</th>\n",
       "      <th id=\"T_e2a49_level0_col3\" class=\"col_heading level0 col3\" >Text_4</th>\n",
       "      <th id=\"T_e2a49_level0_col4\" class=\"col_heading level0 col4\" >Text_5</th>\n",
       "    </tr>\n",
       "  </thead>\n",
       "  <tbody>\n",
       "    <tr>\n",
       "      <th id=\"T_e2a49_level0_row0\" class=\"row_heading level0 row0\" >best</th>\n",
       "      <td id=\"T_e2a49_row0_col0\" class=\"data row0 col0\" >-0.364643</td>\n",
       "      <td id=\"T_e2a49_row0_col1\" class=\"data row0 col1\" >-0.182322</td>\n",
       "      <td id=\"T_e2a49_row0_col2\" class=\"data row0 col2\" >-0.182322</td>\n",
       "      <td id=\"T_e2a49_row0_col3\" class=\"data row0 col3\" >-0.364643</td>\n",
       "      <td id=\"T_e2a49_row0_col4\" class=\"data row0 col4\" >-0.182322</td>\n",
       "    </tr>\n",
       "    <tr>\n",
       "      <th id=\"T_e2a49_level0_row1\" class=\"row_heading level0 row1\" >the</th>\n",
       "      <td id=\"T_e2a49_row1_col0\" class=\"data row1 col0\" >0.000000</td>\n",
       "      <td id=\"T_e2a49_row1_col1\" class=\"data row1 col1\" >0.000000</td>\n",
       "      <td id=\"T_e2a49_row1_col2\" class=\"data row1 col2\" >0.000000</td>\n",
       "      <td id=\"T_e2a49_row1_col3\" class=\"data row1 col3\" >0.000000</td>\n",
       "      <td id=\"T_e2a49_row1_col4\" class=\"data row1 col4\" >0.000000</td>\n",
       "    </tr>\n",
       "    <tr>\n",
       "      <th id=\"T_e2a49_level0_row2\" class=\"row_heading level0 row2\" >hamburger</th>\n",
       "      <td id=\"T_e2a49_row2_col0\" class=\"data row2 col0\" >0.000000</td>\n",
       "      <td id=\"T_e2a49_row2_col1\" class=\"data row2 col1\" >0.510826</td>\n",
       "      <td id=\"T_e2a49_row2_col2\" class=\"data row2 col2\" >0.000000</td>\n",
       "      <td id=\"T_e2a49_row2_col3\" class=\"data row2 col3\" >0.000000</td>\n",
       "      <td id=\"T_e2a49_row2_col4\" class=\"data row2 col4\" >0.510826</td>\n",
       "    </tr>\n",
       "    <tr>\n",
       "      <th id=\"T_e2a49_level0_row3\" class=\"row_heading level0 row3\" >restaurant</th>\n",
       "      <td id=\"T_e2a49_row3_col0\" class=\"data row3 col0\" >0.000000</td>\n",
       "      <td id=\"T_e2a49_row3_col1\" class=\"data row3 col1\" >0.000000</td>\n",
       "      <td id=\"T_e2a49_row3_col2\" class=\"data row3 col2\" >0.000000</td>\n",
       "      <td id=\"T_e2a49_row3_col3\" class=\"data row3 col3\" >0.000000</td>\n",
       "      <td id=\"T_e2a49_row3_col4\" class=\"data row3 col4\" >0.000000</td>\n",
       "    </tr>\n",
       "    <tr>\n",
       "      <th id=\"T_e2a49_level0_row4\" class=\"row_heading level0 row4\" >pasta</th>\n",
       "      <td id=\"T_e2a49_row4_col0\" class=\"data row4 col0\" >0.916291</td>\n",
       "      <td id=\"T_e2a49_row4_col1\" class=\"data row4 col1\" >0.000000</td>\n",
       "      <td id=\"T_e2a49_row4_col2\" class=\"data row4 col2\" >0.000000</td>\n",
       "      <td id=\"T_e2a49_row4_col3\" class=\"data row4 col3\" >0.000000</td>\n",
       "      <td id=\"T_e2a49_row4_col4\" class=\"data row4 col4\" >0.000000</td>\n",
       "    </tr>\n",
       "    <tr>\n",
       "      <th id=\"T_e2a49_level0_row5\" class=\"row_heading level0 row5\" >bibimbap</th>\n",
       "      <td id=\"T_e2a49_row5_col0\" class=\"data row5 col0\" >0.000000</td>\n",
       "      <td id=\"T_e2a49_row5_col1\" class=\"data row5 col1\" >0.000000</td>\n",
       "      <td id=\"T_e2a49_row5_col2\" class=\"data row5 col2\" >0.916291</td>\n",
       "      <td id=\"T_e2a49_row5_col3\" class=\"data row5 col3\" >0.000000</td>\n",
       "      <td id=\"T_e2a49_row5_col4\" class=\"data row5 col4\" >0.000000</td>\n",
       "    </tr>\n",
       "    <tr>\n",
       "      <th id=\"T_e2a49_level0_row6\" class=\"row_heading level0 row6\" >enjoy</th>\n",
       "      <td id=\"T_e2a49_row6_col0\" class=\"data row6 col0\" >0.223144</td>\n",
       "      <td id=\"T_e2a49_row6_col1\" class=\"data row6 col1\" >0.223144</td>\n",
       "      <td id=\"T_e2a49_row6_col2\" class=\"data row6 col2\" >0.223144</td>\n",
       "      <td id=\"T_e2a49_row6_col3\" class=\"data row6 col3\" >0.000000</td>\n",
       "      <td id=\"T_e2a49_row6_col4\" class=\"data row6 col4\" >0.000000</td>\n",
       "    </tr>\n",
       "    <tr>\n",
       "      <th id=\"T_e2a49_level0_row7\" class=\"row_heading level0 row7\" >korean</th>\n",
       "      <td id=\"T_e2a49_row7_col0\" class=\"data row7 col0\" >0.000000</td>\n",
       "      <td id=\"T_e2a49_row7_col1\" class=\"data row7 col1\" >0.000000</td>\n",
       "      <td id=\"T_e2a49_row7_col2\" class=\"data row7 col2\" >1.832581</td>\n",
       "      <td id=\"T_e2a49_row7_col3\" class=\"data row7 col3\" >0.000000</td>\n",
       "      <td id=\"T_e2a49_row7_col4\" class=\"data row7 col4\" >0.000000</td>\n",
       "    </tr>\n",
       "    <tr>\n",
       "      <th id=\"T_e2a49_level0_row8\" class=\"row_heading level0 row8\" >american</th>\n",
       "      <td id=\"T_e2a49_row8_col0\" class=\"data row8 col0\" >0.000000</td>\n",
       "      <td id=\"T_e2a49_row8_col1\" class=\"data row8 col1\" >0.510826</td>\n",
       "      <td id=\"T_e2a49_row8_col2\" class=\"data row8 col2\" >0.000000</td>\n",
       "      <td id=\"T_e2a49_row8_col3\" class=\"data row8 col3\" >0.510826</td>\n",
       "      <td id=\"T_e2a49_row8_col4\" class=\"data row8 col4\" >0.000000</td>\n",
       "    </tr>\n",
       "    <tr>\n",
       "      <th id=\"T_e2a49_level0_row9\" class=\"row_heading level0 row9\" >italian</th>\n",
       "      <td id=\"T_e2a49_row9_col0\" class=\"data row9 col0\" >0.916291</td>\n",
       "      <td id=\"T_e2a49_row9_col1\" class=\"data row9 col1\" >0.000000</td>\n",
       "      <td id=\"T_e2a49_row9_col2\" class=\"data row9 col2\" >0.000000</td>\n",
       "      <td id=\"T_e2a49_row9_col3\" class=\"data row9 col3\" >0.000000</td>\n",
       "      <td id=\"T_e2a49_row9_col4\" class=\"data row9 col4\" >0.000000</td>\n",
       "    </tr>\n",
       "    <tr>\n",
       "      <th id=\"T_e2a49_level0_row10\" class=\"row_heading level0 row10\" >world</th>\n",
       "      <td id=\"T_e2a49_row10_col0\" class=\"data row10 col0\" >0.000000</td>\n",
       "      <td id=\"T_e2a49_row10_col1\" class=\"data row10 col1\" >0.000000</td>\n",
       "      <td id=\"T_e2a49_row10_col2\" class=\"data row10 col2\" >0.000000</td>\n",
       "      <td id=\"T_e2a49_row10_col3\" class=\"data row10 col3\" >0.000000</td>\n",
       "      <td id=\"T_e2a49_row10_col4\" class=\"data row10 col4\" >0.916291</td>\n",
       "    </tr>\n",
       "    <tr>\n",
       "      <th id=\"T_e2a49_level0_row11\" class=\"row_heading level0 row11\" >macdonald</th>\n",
       "      <td id=\"T_e2a49_row11_col0\" class=\"data row11 col0\" >0.000000</td>\n",
       "      <td id=\"T_e2a49_row11_col1\" class=\"data row11 col1\" >0.000000</td>\n",
       "      <td id=\"T_e2a49_row11_col2\" class=\"data row11 col2\" >0.000000</td>\n",
       "      <td id=\"T_e2a49_row11_col3\" class=\"data row11 col3\" >0.000000</td>\n",
       "      <td id=\"T_e2a49_row11_col4\" class=\"data row11 col4\" >0.916291</td>\n",
       "    </tr>\n",
       "    <tr>\n",
       "      <th id=\"T_e2a49_level0_row12\" class=\"row_heading level0 row12\" >oov</th>\n",
       "      <td id=\"T_e2a49_row12_col0\" class=\"data row12 col0\" >0.000000</td>\n",
       "      <td id=\"T_e2a49_row12_col1\" class=\"data row12 col1\" >0.000000</td>\n",
       "      <td id=\"T_e2a49_row12_col2\" class=\"data row12 col2\" >0.000000</td>\n",
       "      <td id=\"T_e2a49_row12_col3\" class=\"data row12 col3\" >0.000000</td>\n",
       "      <td id=\"T_e2a49_row12_col4\" class=\"data row12 col4\" >0.000000</td>\n",
       "    </tr>\n",
       "  </tbody>\n",
       "</table>\n"
      ],
      "text/plain": [
       "<pandas.io.formats.style.Styler at 0x11bed3700>"
      ]
     },
     "execution_count": 6,
     "metadata": {},
     "output_type": "execute_result"
    }
   ],
   "source": [
    "results, tk, tfidf = test(test_data)\n",
    "results.style.highlight_max(color = 'lightgreen', axis = 0)"
   ]
  },
  {
   "cell_type": "markdown",
   "id": "47157beb",
   "metadata": {},
   "source": [
    "## 각 요소의 형태 확인"
   ]
  },
  {
   "cell_type": "code",
   "execution_count": 7,
   "id": "84a5df9d",
   "metadata": {
    "scrolled": true
   },
   "outputs": [
    {
     "name": "stdout",
     "output_type": "stream",
     "text": [
      "Type : <class 'dict'>\n",
      "Value :\n",
      " {'best': 1, 'the': 2, 'hamburger': 3, 'restaurant': 4, 'pasta': 5, 'bibimbap': 6, 'enjoy': 7, 'korean': 8, 'american': 9, 'italian': 10, 'world': 11, 'macdonald': 12, 'oov': 0}\n"
     ]
    }
   ],
   "source": [
    "# 어휘 사전\n",
    "print(\"Type :\", type(tk.word_dict))\n",
    "print(\"Value :\\n\", tk.word_dict)"
   ]
  },
  {
   "cell_type": "code",
   "execution_count": 8,
   "id": "d2ee9c34",
   "metadata": {},
   "outputs": [
    {
     "data": {
      "text/plain": [
       "[[2, 1, 10, 4, 7, 2, 1, 5],\n",
       " [9, 4, 7, 2, 1, 3],\n",
       " [8, 4, 7, 2, 1, 8, 6],\n",
       " [2, 1, 2, 1, 9, 4],\n",
       " [11, 1, 3, 12]]"
      ]
     },
     "execution_count": 8,
     "metadata": {},
     "output_type": "execute_result"
    }
   ],
   "source": [
    "# Tokenizer - transform() - Output\n",
    "tk.transform(test_data)"
   ]
  },
  {
   "cell_type": "code",
   "execution_count": 16,
   "id": "c1924a0e",
   "metadata": {
    "scrolled": true
   },
   "outputs": [
    {
     "name": "stdout",
     "output_type": "stream",
     "text": [
      "Type : <class 'list'>\n",
      "Value :\n",
      "the 0 best 0 italian 1 restaurant 0 enjoy 0 the 0 best 0 pasta 1 \n",
      "american 1 restaurant 0 enjoy 0 the 0 best 0 hamburger 1 \n",
      "korean 2 restaurant 0 enjoy 0 the 0 best 0 korean 2 bibimbap 1 \n",
      "the 0 best 0 the 0 best 0 american 1 restaurant 0 \n",
      "world 1 best 0 hamburger 1 macdonald 1 \n"
     ]
    }
   ],
   "source": [
    "# TfidfVectorizer - transform() - Output(TF-IDF matrix)\n",
    "print(\"Type :\", type(tfidf.tfidf_matrix))\n",
    "print(\"Value :\")\n",
    "tokens = tk.preprocessing(test_data)\n",
    "\n",
    "for i,s in enumerate(tfidf.tfidf_matrix):\n",
    "    for j in range(len(tokens[i])):\n",
    "        print(tokens[i][j], round(s[j]), end = \" \")\n",
    "    print()"
   ]
  },
  {
   "cell_type": "code",
   "execution_count": 17,
   "id": "0f02c903",
   "metadata": {},
   "outputs": [],
   "source": [
    "sample_text = ['I go to school.', 'I LIKE pizza!']"
   ]
  },
  {
   "cell_type": "code",
   "execution_count": 19,
   "id": "044dbd1b",
   "metadata": {},
   "outputs": [
    {
     "data": {
      "text/html": [
       "<style type=\"text/css\">\n",
       "#T_b4456_row0_col0, #T_b4456_row0_col1, #T_b4456_row1_col0, #T_b4456_row1_col1, #T_b4456_row2_col0, #T_b4456_row2_col1, #T_b4456_row3_col0, #T_b4456_row3_col1, #T_b4456_row5_col0, #T_b4456_row5_col1, #T_b4456_row6_col0, #T_b4456_row6_col1 {\n",
       "  background-color: lightgreen;\n",
       "}\n",
       "</style>\n",
       "<table id=\"T_b4456\">\n",
       "  <thead>\n",
       "    <tr>\n",
       "      <th class=\"blank level0\" >&nbsp;</th>\n",
       "      <th id=\"T_b4456_level0_col0\" class=\"col_heading level0 col0\" >Text_1</th>\n",
       "      <th id=\"T_b4456_level0_col1\" class=\"col_heading level0 col1\" >Text_2</th>\n",
       "    </tr>\n",
       "  </thead>\n",
       "  <tbody>\n",
       "    <tr>\n",
       "      <th id=\"T_b4456_level0_row0\" class=\"row_heading level0 row0\" >to</th>\n",
       "      <td id=\"T_b4456_row0_col0\" class=\"data row0 col0\" >0.000000</td>\n",
       "      <td id=\"T_b4456_row0_col1\" class=\"data row0 col1\" >0.000000</td>\n",
       "    </tr>\n",
       "    <tr>\n",
       "      <th id=\"T_b4456_level0_row1\" class=\"row_heading level0 row1\" >pizza</th>\n",
       "      <td id=\"T_b4456_row1_col0\" class=\"data row1 col0\" >0.000000</td>\n",
       "      <td id=\"T_b4456_row1_col1\" class=\"data row1 col1\" >0.000000</td>\n",
       "    </tr>\n",
       "    <tr>\n",
       "      <th id=\"T_b4456_level0_row2\" class=\"row_heading level0 row2\" >go</th>\n",
       "      <td id=\"T_b4456_row2_col0\" class=\"data row2 col0\" >0.000000</td>\n",
       "      <td id=\"T_b4456_row2_col1\" class=\"data row2 col1\" >0.000000</td>\n",
       "    </tr>\n",
       "    <tr>\n",
       "      <th id=\"T_b4456_level0_row3\" class=\"row_heading level0 row3\" >like</th>\n",
       "      <td id=\"T_b4456_row3_col0\" class=\"data row3 col0\" >0.000000</td>\n",
       "      <td id=\"T_b4456_row3_col1\" class=\"data row3 col1\" >0.000000</td>\n",
       "    </tr>\n",
       "    <tr>\n",
       "      <th id=\"T_b4456_level0_row4\" class=\"row_heading level0 row4\" >i</th>\n",
       "      <td id=\"T_b4456_row4_col0\" class=\"data row4 col0\" >-0.405465</td>\n",
       "      <td id=\"T_b4456_row4_col1\" class=\"data row4 col1\" >-0.405465</td>\n",
       "    </tr>\n",
       "    <tr>\n",
       "      <th id=\"T_b4456_level0_row5\" class=\"row_heading level0 row5\" >school</th>\n",
       "      <td id=\"T_b4456_row5_col0\" class=\"data row5 col0\" >0.000000</td>\n",
       "      <td id=\"T_b4456_row5_col1\" class=\"data row5 col1\" >0.000000</td>\n",
       "    </tr>\n",
       "    <tr>\n",
       "      <th id=\"T_b4456_level0_row6\" class=\"row_heading level0 row6\" >oov</th>\n",
       "      <td id=\"T_b4456_row6_col0\" class=\"data row6 col0\" >0.000000</td>\n",
       "      <td id=\"T_b4456_row6_col1\" class=\"data row6 col1\" >0.000000</td>\n",
       "    </tr>\n",
       "  </tbody>\n",
       "</table>\n"
      ],
      "text/plain": [
       "<pandas.io.formats.style.Styler at 0x11e036f40>"
      ]
     },
     "execution_count": 19,
     "metadata": {},
     "output_type": "execute_result"
    }
   ],
   "source": [
    "sample, tk, tfidf = test(sample_text)\n",
    "sample.style.highlight_max(color = 'lightgreen', axis = 0)"
   ]
  },
  {
   "cell_type": "code",
   "execution_count": 21,
   "id": "db43fc4b",
   "metadata": {},
   "outputs": [
    {
     "data": {
      "text/plain": [
       "[['i', 'go', 'to', 'school'], ['i', 'like', 'pizza']]"
      ]
     },
     "execution_count": 21,
     "metadata": {},
     "output_type": "execute_result"
    }
   ],
   "source": [
    "tk.preprocessing(sample_text)"
   ]
  },
  {
   "cell_type": "code",
   "execution_count": 22,
   "id": "85d14b09",
   "metadata": {},
   "outputs": [
    {
     "data": {
      "text/plain": [
       "{'to': 1, 'pizza': 2, 'go': 3, 'like': 4, 'i': 5, 'school': 6, 'oov': 0}"
      ]
     },
     "execution_count": 22,
     "metadata": {},
     "output_type": "execute_result"
    }
   ],
   "source": [
    "tk.word_dict"
   ]
  },
  {
   "cell_type": "code",
   "execution_count": 24,
   "id": "7b0a12fa",
   "metadata": {},
   "outputs": [
    {
     "data": {
      "text/plain": [
       "[[5, 3, 1, 6], [5, 4, 2]]"
      ]
     },
     "execution_count": 24,
     "metadata": {},
     "output_type": "execute_result"
    }
   ],
   "source": [
    "tk.fit_transform(sample_text)"
   ]
  },
  {
   "cell_type": "code",
   "execution_count": 26,
   "id": "bb94f8fa",
   "metadata": {},
   "outputs": [
    {
     "data": {
      "text/plain": [
       "[[-0.40546510810816444, 0.0, 0.0, 0.0], [-0.40546510810816444, 0.0, 0.0]]"
      ]
     },
     "execution_count": 26,
     "metadata": {},
     "output_type": "execute_result"
    }
   ],
   "source": [
    "tfidf.tfidf_matrix"
   ]
  },
  {
   "cell_type": "code",
   "execution_count": null,
   "id": "d3699adc",
   "metadata": {},
   "outputs": [],
   "source": []
  }
 ],
 "metadata": {
  "kernelspec": {
   "display_name": "Python 3 (ipykernel)",
   "language": "python",
   "name": "python3"
  },
  "language_info": {
   "codemirror_mode": {
    "name": "ipython",
    "version": 3
   },
   "file_extension": ".py",
   "mimetype": "text/x-python",
   "name": "python",
   "nbconvert_exporter": "python",
   "pygments_lexer": "ipython3",
   "version": "3.9.7"
  }
 },
 "nbformat": 4,
 "nbformat_minor": 5
}
