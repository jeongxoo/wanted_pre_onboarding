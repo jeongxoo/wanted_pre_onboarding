{
 "cells": [
  {
   "cell_type": "code",
   "execution_count": 740,
   "id": "444c00e7",
   "metadata": {},
   "outputs": [],
   "source": [
    "import re\n",
    "import math\n",
    "import itertools\n",
    "import numpy as np\n",
    "import pandas as pd"
   ]
  },
  {
   "cell_type": "code",
   "execution_count": 741,
   "id": "0979de3e",
   "metadata": {},
   "outputs": [],
   "source": [
    "class Tokenizer():\n",
    "    def __init__(self):\n",
    "        self.word_dict = {'oov': 0}\n",
    "        self.fit_checker = False\n",
    "        self.token = []\n",
    "\n",
    "    def preprocessing(self, sequences):\n",
    "        # 조건 1, 2 수행\n",
    "        fx_make = lambda x: re.sub(r\"[^a-zA-Z0-9]\", \" \", x).lower().split()\n",
    "        result = [fx_make(s) for s in sequences]\n",
    "        return result\n",
    "  \n",
    "    def fit(self, sequences):\n",
    "        self.fit_checker = False\n",
    "        \n",
    "        # 조건 1 수행\n",
    "        tokenized = self.preprocessing(sequences) \n",
    "        self.token = list(set(itertools.chain(*tokenized)))\n",
    "\n",
    "        # 조건 2 수행\n",
    "        _dict = {v: (i + 1) for i, v in enumerate(self.token)}\n",
    "        self.word_dict = dict(_dict, **self.word_dict) \n",
    "        \n",
    "        self.fit_checker = True\n",
    "    \n",
    "    def transform(self, sequences):\n",
    "        result = []\n",
    "        tokens = self.preprocessing(sequences)\n",
    "        \n",
    "        if self.fit_checker:\n",
    "            fx_get_key = lambda x: x if x in self.word_dict.keys() else \"oov\"\n",
    "            fx_get_val = lambda x: self.word_dict[fx_get_key(x)]\n",
    "            result = [list(map(fx_get_val, t)) for t in tokens]\n",
    "            \n",
    "            return result\n",
    "        else:\n",
    "            raise Exception(\"Tokenizer instance is not fitted yet.\")\n",
    "      \n",
    "    def fit_transform(self, sequences):\n",
    "        self.fit(sequences)\n",
    "        result = self.transform(sequences)\n",
    "        return result\n",
    "    "
   ]
  },
  {
   "cell_type": "code",
   "execution_count": 742,
   "id": "08c49823",
   "metadata": {},
   "outputs": [],
   "source": [
    "class TfidfVectorizer:\n",
    "    def __init__(self, tokenizer):\n",
    "        self.tokenizer = tokenizer\n",
    "        self.fit_checker = False\n",
    "        \n",
    "        self.df_matrix = []\n",
    "        self.idf_matrix = []\n",
    "        self.tfidf_matrix = []\n",
    "  \n",
    "    def fit(self, sequences):\n",
    "        tokenized = self.tokenizer.fit_transform(sequences)\n",
    "        \n",
    "        # list type의 df_matrix 생성\n",
    "        fx_df = lambda x: sum([1 for tk in tokenized if x in tk])\n",
    "        fx_get_idx = lambda x: self.tokenizer.word_dict[x]\n",
    "        self.df_matrix = [fx_df(fx_get_idx(t)) for t in self.tokenizer.token]\n",
    "    \n",
    "        # idf 계산, 음수 처리 함수\n",
    "        n = len(sequences)\n",
    "        fx_idf = lambda x: math.log(n / (1 + x))\n",
    "        fx_filter = lambda x: x if x >= 0 else 0\n",
    "        \n",
    "        # list type의 idf_matrix 생성\n",
    "        self.idf_matrix = [fx_filter(fx_idf(df)) for df in self.df_matrix]  \n",
    "        \n",
    "        self.fit_checker = True\n",
    "    \n",
    "    def transform(self, sequences):\n",
    "        if self.fit_checker:\n",
    "            tokenized = self.tokenizer.transform(sequences)\n",
    "            \n",
    "            # idf 함수 -> [idf(1,1), idf(1,2) ... idf(1,n)]\n",
    "            fx_get_idf = lambda y: np.array(list(map(lambda x: self.idf_matrix[x - 1], y)))\n",
    "\n",
    "            # tf 함수 -> [tf(1,1), tf(1,2) ... tf(1,n)]\n",
    "            fx_tf = lambda y: np.array(list(map(lambda x: y.count(x), y)))\n",
    "            \n",
    "            # array type의 tf, idf 곱셈 연산 후 list 형 변환 함수\n",
    "            fx_multi = lambda x, y: (x * y).tolist()\n",
    "            \n",
    "            # tfidf 계산 함수, nested list 형태 출력\n",
    "            self.tfidf_matrix = [fx_multi(fx_tf(tk), fx_get_idf(tk)) for tk in tokenized]\n",
    "            \n",
    "            return self.tfidf_matrix\n",
    "        else:\n",
    "            raise Exception(\"TfidfVectorizer instance is not fitted yet.\")\n",
    "\n",
    "\n",
    "    def fit_transform(self, sequences):\n",
    "        self.fit(sequences)\n",
    "        return self.transform(sequences)"
   ]
  },
  {
   "cell_type": "markdown",
   "id": "3ecb4c67",
   "metadata": {},
   "source": [
    "# 결과 확인"
   ]
  },
  {
   "cell_type": "code",
   "execution_count": 743,
   "id": "431d3eb0",
   "metadata": {
    "scrolled": false
   },
   "outputs": [],
   "source": [
    "# 실행 및 출력용 DF 생성 함수\n",
    "def test(test_data):\n",
    "    tk = Tokenizer()\n",
    "    tfidf = TfidfVectorizer(tk)\n",
    "    \n",
    "    value = tfidf.fit_transform(test_data)\n",
    "    original = tk.preprocessing(test_data)\n",
    "    index = tk.token\n",
    "    \n",
    "    _data = {\"Text_\" + str(i+1) :[] for i in range(len(test_data))}\n",
    "\n",
    "    for i,v in enumerate(original):\n",
    "        for idx in index:\n",
    "            key = \"Text_\" + str(i+1)\n",
    "            try:\n",
    "                _data[key].append(value[i][v.index(idx)])\n",
    "            except:\n",
    "                _data[key].append(0)\n",
    "\n",
    "    results = pd.DataFrame(data=_data, index=index) \n",
    "                \n",
    "    return results, tk, tfidf"
   ]
  },
  {
   "cell_type": "markdown",
   "id": "32c69a1b",
   "metadata": {},
   "source": [
    "### Sample Data"
   ]
  },
  {
   "cell_type": "code",
   "execution_count": 744,
   "id": "8d2d0d09",
   "metadata": {},
   "outputs": [],
   "source": [
    "test_data = [\"the best Italian restaurant enjoy the best pasta\",\n",
    "             \"American restaurant enjoy the best hamburger\",\n",
    "             \"Korean restaurant enjoy the best korean bibimbap\",\n",
    "             \"the best the best American restaurant\",\n",
    "             \"world best hamburger Macdonald\"]"
   ]
  },
  {
   "cell_type": "code",
   "execution_count": 745,
   "id": "3ea92fe1",
   "metadata": {
    "scrolled": false
   },
   "outputs": [
    {
     "data": {
      "text/html": [
       "<style type=\"text/css\">\n",
       "#T_e621a_row2_col0, #T_e621a_row3_col1, #T_e621a_row3_col3, #T_e621a_row4_col1, #T_e621a_row5_col2, #T_e621a_row7_col0, #T_e621a_row9_col4, #T_e621a_row10_col4 {\n",
       "  background-color: lightgreen;\n",
       "}\n",
       "</style>\n",
       "<table id=\"T_e621a\">\n",
       "  <thead>\n",
       "    <tr>\n",
       "      <th class=\"blank level0\" >&nbsp;</th>\n",
       "      <th id=\"T_e621a_level0_col0\" class=\"col_heading level0 col0\" >Text_1</th>\n",
       "      <th id=\"T_e621a_level0_col1\" class=\"col_heading level0 col1\" >Text_2</th>\n",
       "      <th id=\"T_e621a_level0_col2\" class=\"col_heading level0 col2\" >Text_3</th>\n",
       "      <th id=\"T_e621a_level0_col3\" class=\"col_heading level0 col3\" >Text_4</th>\n",
       "      <th id=\"T_e621a_level0_col4\" class=\"col_heading level0 col4\" >Text_5</th>\n",
       "    </tr>\n",
       "  </thead>\n",
       "  <tbody>\n",
       "    <tr>\n",
       "      <th id=\"T_e621a_level0_row0\" class=\"row_heading level0 row0\" >restaurant</th>\n",
       "      <td id=\"T_e621a_row0_col0\" class=\"data row0 col0\" >0.000000</td>\n",
       "      <td id=\"T_e621a_row0_col1\" class=\"data row0 col1\" >0.000000</td>\n",
       "      <td id=\"T_e621a_row0_col2\" class=\"data row0 col2\" >0.000000</td>\n",
       "      <td id=\"T_e621a_row0_col3\" class=\"data row0 col3\" >0.000000</td>\n",
       "      <td id=\"T_e621a_row0_col4\" class=\"data row0 col4\" >0.000000</td>\n",
       "    </tr>\n",
       "    <tr>\n",
       "      <th id=\"T_e621a_level0_row1\" class=\"row_heading level0 row1\" >enjoy</th>\n",
       "      <td id=\"T_e621a_row1_col0\" class=\"data row1 col0\" >0.223144</td>\n",
       "      <td id=\"T_e621a_row1_col1\" class=\"data row1 col1\" >0.223144</td>\n",
       "      <td id=\"T_e621a_row1_col2\" class=\"data row1 col2\" >0.223144</td>\n",
       "      <td id=\"T_e621a_row1_col3\" class=\"data row1 col3\" >0.000000</td>\n",
       "      <td id=\"T_e621a_row1_col4\" class=\"data row1 col4\" >0.000000</td>\n",
       "    </tr>\n",
       "    <tr>\n",
       "      <th id=\"T_e621a_level0_row2\" class=\"row_heading level0 row2\" >pasta</th>\n",
       "      <td id=\"T_e621a_row2_col0\" class=\"data row2 col0\" >0.916291</td>\n",
       "      <td id=\"T_e621a_row2_col1\" class=\"data row2 col1\" >0.000000</td>\n",
       "      <td id=\"T_e621a_row2_col2\" class=\"data row2 col2\" >0.000000</td>\n",
       "      <td id=\"T_e621a_row2_col3\" class=\"data row2 col3\" >0.000000</td>\n",
       "      <td id=\"T_e621a_row2_col4\" class=\"data row2 col4\" >0.000000</td>\n",
       "    </tr>\n",
       "    <tr>\n",
       "      <th id=\"T_e621a_level0_row3\" class=\"row_heading level0 row3\" >american</th>\n",
       "      <td id=\"T_e621a_row3_col0\" class=\"data row3 col0\" >0.000000</td>\n",
       "      <td id=\"T_e621a_row3_col1\" class=\"data row3 col1\" >0.510826</td>\n",
       "      <td id=\"T_e621a_row3_col2\" class=\"data row3 col2\" >0.000000</td>\n",
       "      <td id=\"T_e621a_row3_col3\" class=\"data row3 col3\" >0.510826</td>\n",
       "      <td id=\"T_e621a_row3_col4\" class=\"data row3 col4\" >0.000000</td>\n",
       "    </tr>\n",
       "    <tr>\n",
       "      <th id=\"T_e621a_level0_row4\" class=\"row_heading level0 row4\" >hamburger</th>\n",
       "      <td id=\"T_e621a_row4_col0\" class=\"data row4 col0\" >0.000000</td>\n",
       "      <td id=\"T_e621a_row4_col1\" class=\"data row4 col1\" >0.510826</td>\n",
       "      <td id=\"T_e621a_row4_col2\" class=\"data row4 col2\" >0.000000</td>\n",
       "      <td id=\"T_e621a_row4_col3\" class=\"data row4 col3\" >0.000000</td>\n",
       "      <td id=\"T_e621a_row4_col4\" class=\"data row4 col4\" >0.510826</td>\n",
       "    </tr>\n",
       "    <tr>\n",
       "      <th id=\"T_e621a_level0_row5\" class=\"row_heading level0 row5\" >korean</th>\n",
       "      <td id=\"T_e621a_row5_col0\" class=\"data row5 col0\" >0.000000</td>\n",
       "      <td id=\"T_e621a_row5_col1\" class=\"data row5 col1\" >0.000000</td>\n",
       "      <td id=\"T_e621a_row5_col2\" class=\"data row5 col2\" >1.832581</td>\n",
       "      <td id=\"T_e621a_row5_col3\" class=\"data row5 col3\" >0.000000</td>\n",
       "      <td id=\"T_e621a_row5_col4\" class=\"data row5 col4\" >0.000000</td>\n",
       "    </tr>\n",
       "    <tr>\n",
       "      <th id=\"T_e621a_level0_row6\" class=\"row_heading level0 row6\" >the</th>\n",
       "      <td id=\"T_e621a_row6_col0\" class=\"data row6 col0\" >0.000000</td>\n",
       "      <td id=\"T_e621a_row6_col1\" class=\"data row6 col1\" >0.000000</td>\n",
       "      <td id=\"T_e621a_row6_col2\" class=\"data row6 col2\" >0.000000</td>\n",
       "      <td id=\"T_e621a_row6_col3\" class=\"data row6 col3\" >0.000000</td>\n",
       "      <td id=\"T_e621a_row6_col4\" class=\"data row6 col4\" >0.000000</td>\n",
       "    </tr>\n",
       "    <tr>\n",
       "      <th id=\"T_e621a_level0_row7\" class=\"row_heading level0 row7\" >italian</th>\n",
       "      <td id=\"T_e621a_row7_col0\" class=\"data row7 col0\" >0.916291</td>\n",
       "      <td id=\"T_e621a_row7_col1\" class=\"data row7 col1\" >0.000000</td>\n",
       "      <td id=\"T_e621a_row7_col2\" class=\"data row7 col2\" >0.000000</td>\n",
       "      <td id=\"T_e621a_row7_col3\" class=\"data row7 col3\" >0.000000</td>\n",
       "      <td id=\"T_e621a_row7_col4\" class=\"data row7 col4\" >0.000000</td>\n",
       "    </tr>\n",
       "    <tr>\n",
       "      <th id=\"T_e621a_level0_row8\" class=\"row_heading level0 row8\" >bibimbap</th>\n",
       "      <td id=\"T_e621a_row8_col0\" class=\"data row8 col0\" >0.000000</td>\n",
       "      <td id=\"T_e621a_row8_col1\" class=\"data row8 col1\" >0.000000</td>\n",
       "      <td id=\"T_e621a_row8_col2\" class=\"data row8 col2\" >0.916291</td>\n",
       "      <td id=\"T_e621a_row8_col3\" class=\"data row8 col3\" >0.000000</td>\n",
       "      <td id=\"T_e621a_row8_col4\" class=\"data row8 col4\" >0.000000</td>\n",
       "    </tr>\n",
       "    <tr>\n",
       "      <th id=\"T_e621a_level0_row9\" class=\"row_heading level0 row9\" >macdonald</th>\n",
       "      <td id=\"T_e621a_row9_col0\" class=\"data row9 col0\" >0.000000</td>\n",
       "      <td id=\"T_e621a_row9_col1\" class=\"data row9 col1\" >0.000000</td>\n",
       "      <td id=\"T_e621a_row9_col2\" class=\"data row9 col2\" >0.000000</td>\n",
       "      <td id=\"T_e621a_row9_col3\" class=\"data row9 col3\" >0.000000</td>\n",
       "      <td id=\"T_e621a_row9_col4\" class=\"data row9 col4\" >0.916291</td>\n",
       "    </tr>\n",
       "    <tr>\n",
       "      <th id=\"T_e621a_level0_row10\" class=\"row_heading level0 row10\" >world</th>\n",
       "      <td id=\"T_e621a_row10_col0\" class=\"data row10 col0\" >0.000000</td>\n",
       "      <td id=\"T_e621a_row10_col1\" class=\"data row10 col1\" >0.000000</td>\n",
       "      <td id=\"T_e621a_row10_col2\" class=\"data row10 col2\" >0.000000</td>\n",
       "      <td id=\"T_e621a_row10_col3\" class=\"data row10 col3\" >0.000000</td>\n",
       "      <td id=\"T_e621a_row10_col4\" class=\"data row10 col4\" >0.916291</td>\n",
       "    </tr>\n",
       "    <tr>\n",
       "      <th id=\"T_e621a_level0_row11\" class=\"row_heading level0 row11\" >best</th>\n",
       "      <td id=\"T_e621a_row11_col0\" class=\"data row11 col0\" >0.000000</td>\n",
       "      <td id=\"T_e621a_row11_col1\" class=\"data row11 col1\" >0.000000</td>\n",
       "      <td id=\"T_e621a_row11_col2\" class=\"data row11 col2\" >0.000000</td>\n",
       "      <td id=\"T_e621a_row11_col3\" class=\"data row11 col3\" >0.000000</td>\n",
       "      <td id=\"T_e621a_row11_col4\" class=\"data row11 col4\" >0.000000</td>\n",
       "    </tr>\n",
       "  </tbody>\n",
       "</table>\n"
      ],
      "text/plain": [
       "<pandas.io.formats.style.Styler at 0x12fb8a310>"
      ]
     },
     "execution_count": 745,
     "metadata": {},
     "output_type": "execute_result"
    }
   ],
   "source": [
    "results, tk, tfidf = test(test_data)\n",
    "results.style.highlight_max(color = 'lightgreen', axis = 0)"
   ]
  },
  {
   "cell_type": "markdown",
   "id": "47157beb",
   "metadata": {},
   "source": [
    "## 각 요소의 형태 확인"
   ]
  },
  {
   "cell_type": "code",
   "execution_count": 746,
   "id": "84a5df9d",
   "metadata": {
    "scrolled": true
   },
   "outputs": [
    {
     "name": "stdout",
     "output_type": "stream",
     "text": [
      "Type : <class 'dict'>\n",
      "Value :\n",
      " {'restaurant': 1, 'enjoy': 2, 'pasta': 3, 'american': 4, 'hamburger': 5, 'korean': 6, 'the': 7, 'italian': 8, 'bibimbap': 9, 'macdonald': 10, 'world': 11, 'best': 12, 'oov': 0}\n"
     ]
    }
   ],
   "source": [
    "# 어휘 사전\n",
    "print(\"Type :\", type(tk.word_dict))\n",
    "print(\"Value :\\n\", tk.word_dict)"
   ]
  },
  {
   "cell_type": "code",
   "execution_count": 747,
   "id": "d2ee9c34",
   "metadata": {},
   "outputs": [
    {
     "data": {
      "text/plain": [
       "[[7, 12, 8, 1, 2, 7, 12, 3],\n",
       " [4, 1, 2, 7, 12, 5],\n",
       " [6, 1, 2, 7, 12, 6, 9],\n",
       " [7, 12, 7, 12, 4, 1],\n",
       " [11, 12, 5, 10]]"
      ]
     },
     "execution_count": 747,
     "metadata": {},
     "output_type": "execute_result"
    }
   ],
   "source": [
    "# Tokenizer - transform() - Output\n",
    "tk.transform(test_data)"
   ]
  },
  {
   "cell_type": "code",
   "execution_count": 748,
   "id": "893fbb9c",
   "metadata": {},
   "outputs": [
    {
     "data": {
      "text/plain": [
       "[4, 3, 1, 2, 2, 1, 4, 1, 1, 1, 1, 5]"
      ]
     },
     "execution_count": 748,
     "metadata": {},
     "output_type": "execute_result"
    }
   ],
   "source": [
    "# df_matrix\n",
    "tfidf.df_matrix"
   ]
  },
  {
   "cell_type": "code",
   "execution_count": 749,
   "id": "4f6d44de",
   "metadata": {},
   "outputs": [
    {
     "name": "stdout",
     "output_type": "stream",
     "text": [
      "Type : <class 'list'>\n",
      "Value :\n",
      " [0.0, 0.22314355131420976, 0.9162907318741551, 0.5108256237659907, 0.5108256237659907, 0.9162907318741551, 0.0, 0.9162907318741551, 0.9162907318741551, 0.9162907318741551, 0.9162907318741551, 0]\n"
     ]
    }
   ],
   "source": [
    "# idf_matrix\n",
    "print(\"Type :\", type(tfidf.idf_matrix))\n",
    "print(\"Value :\\n\", tfidf.idf_matrix)"
   ]
  },
  {
   "cell_type": "code",
   "execution_count": 750,
   "id": "c1924a0e",
   "metadata": {},
   "outputs": [
    {
     "name": "stdout",
     "output_type": "stream",
     "text": [
      "Type : <class 'list'>\n",
      "Value :\n",
      "[0.0, 0.0, 0.9162907318741551, 0.0, 0.22314355131420976, 0.0, 0.0, 0.9162907318741551]\n",
      "[0.5108256237659907, 0.0, 0.22314355131420976, 0.0, 0.0, 0.5108256237659907]\n",
      "[1.8325814637483102, 0.0, 0.22314355131420976, 0.0, 0.0, 1.8325814637483102, 0.9162907318741551]\n",
      "[0.0, 0.0, 0.0, 0.0, 0.5108256237659907, 0.0]\n",
      "[0.9162907318741551, 0.0, 0.5108256237659907, 0.9162907318741551]\n"
     ]
    }
   ],
   "source": [
    "# TfidfVectorizer - transform() - Output(TF-IDF matrix)\n",
    "print(\"Type :\", type(tfidf.tfidf_matrix))\n",
    "print(\"Value :\")\n",
    "for s in tfidf.tfidf_matrix:\n",
    "    print(s)"
   ]
  },
  {
   "cell_type": "code",
   "execution_count": null,
   "id": "044dbd1b",
   "metadata": {},
   "outputs": [],
   "source": []
  }
 ],
 "metadata": {
  "kernelspec": {
   "display_name": "Python 3 (ipykernel)",
   "language": "python",
   "name": "python3"
  },
  "language_info": {
   "codemirror_mode": {
    "name": "ipython",
    "version": 3
   },
   "file_extension": ".py",
   "mimetype": "text/x-python",
   "name": "python",
   "nbconvert_exporter": "python",
   "pygments_lexer": "ipython3",
   "version": "3.9.7"
  }
 },
 "nbformat": 4,
 "nbformat_minor": 5
}
